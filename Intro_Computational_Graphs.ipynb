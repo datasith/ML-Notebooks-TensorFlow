{
  "nbformat": 4,
  "nbformat_minor": 0,
  "metadata": {
    "colab": {
      "name": "Intro_Computational_Graphs.ipynb",
      "provenance": [],
      "include_colab_link": true
    },
    "kernelspec": {
      "name": "python3",
      "display_name": "Python 3"
    },
    "language_info": {
      "name": "python"
    }
  },
  "cells": [
    {
      "cell_type": "markdown",
      "metadata": {
        "id": "view-in-github",
        "colab_type": "text"
      },
      "source": [
        "<a href=\"https://colab.research.google.com/github/datasith/ML-Notebooks-TensorFlow/blob/main/Intro_Computational_Graphs.ipynb\" target=\"_parent\"><img src=\"https://colab.research.google.com/assets/colab-badge.svg\" alt=\"Open In Colab\"/></a>"
      ]
    },
    {
      "cell_type": "markdown",
      "source": [
        "# Introduction to Computational Graphs with TensorFlow\n",
        "\n",
        "In this notebook I provide a short introduction and overview of computational graphs using TensorFlow inspired by the PyTorch equivalent written by [Elvis Saravia](https://github.com/dair-ai/ML-Notebooks) et al.\n",
        "\n",
        "There are several materials online that cover theory on the topic of computational graphs. However, it seems much easier to learn the concept using code, thus this is an attempt to bridge the gap that should be particularly useful for those on getting started with the subject.  \n",
        "\n",
        "Inspired by Olah's article [\"Calculus on Computational Graphs: Backpropagation\"](https://colah.github.io/posts/2015-08-Backprop/), Elvis put together a few code snippets to get you started with computationsl graphs with PyTorch. Similarly, this TensorFlow companion notebook should complement that article, which you are encouraged to reference for more comprehensive explanations.\n",
        "\n",
        "---\n",
        "**Author:** Cisco Zabala ([@datasith](https://twitter.com/datasith) | [LinkedIn](https://www.linkedin.com/in/datasith/) | [Kaggle](https://kaggle.com/thedatasith) | [GitHub](https://github.com/datasith))\n",
        "\n",
        "*Based on the work by Elvis Saravia ([Twitter](https://twitter.com/omarsar0) | [LinkedIn](https://www.linkedin.com/in/omarsar/)) on GitHub: [ML Notebooks](https://github.com/dair-ai/ML-Notebooks)*"
      ],
      "metadata": {
        "id": "xyDfyGqj9uu5"
      }
    },
    {
      "cell_type": "markdown",
      "source": [
        "## Why Computational Graphs?"
      ],
      "metadata": {
        "id": "38ioPmY2-8i8"
      }
    },
    {
      "cell_type": "markdown",
      "source": [
        "When talking about neural networks in any context, [backpropagation](https://en.wikipedia.org/wiki/Backpropagation) is an important topic to understand because it is the algorithm used for training deep neural networks. \n",
        "\n",
        "Backpropagation is used to calculate derivatives which is what you need to keep optimizing parameters of the model and allowing the model to learn on the task at hand. \n",
        "\n",
        "Many of the deep learning frameworks today like TensorFlow perform backpropagation out-of-the-box using [**automatic differentiation**](https://www.tensorflow.org/guide/autodiff). \n",
        "\n",
        "To better understand how this is done it's important to talk about **computational graphs** which defines the flow of computations that are carried out throughout the network. Along the way we will use the `tensorflow.GradientTape` API to demonstrate in code how this works."
      ],
      "metadata": {
        "id": "eOJA92kK-7wc"
      }
    },
    {
      "cell_type": "markdown",
      "source": [
        "## Getting Started\n",
        "\n",
        "Inspired by Olah's article on computational graphs, let's look at the following expression $e = (a + b) * (b+1)$. It helps to break it down to the following operations:\n",
        "\n",
        "$$\n",
        "\\begin{aligned}&c=a+b \\\\&d=b+1 \\\\&e=c * d\\end{aligned}\n",
        "$$"
      ],
      "metadata": {
        "id": "YXjsI50-sMAa"
      }
    },
    {
      "cell_type": "markdown",
      "source": [
        "This is not a neural network of any sort. We are just going through a very simple example of a chain of operations which you can be represented with computational graphs. \n",
        "\n",
        "Let's visualize these operations using a computational graph. Computational graphs contain **nodes** which can represent and input (tensor, matrix, vector, scalar) or **operation** that can be the input to another node. The nodes are connected by **edges**, which represent a function argument, they are pointers to nodes. Note that the computation graphs are directed and acyclic. The computational graph for our example looks as follows:\n",
        "\n",
        "![](https://raw.githubusercontent.com/datasith/ML-Notebooks-TensorFlow/main/img/Intro_Computational_Graphs/tree-def.png)\n",
        "\n",
        "*Source: Christopher Olah (2015)*"
      ],
      "metadata": {
        "id": "s0EG6DhnsnTm"
      }
    },
    {
      "cell_type": "markdown",
      "source": [
        "We can evaluate the expression by setting our input variables as follows: $a=2$ and $b=1$. This will allow us to compute nodes up through the graph as shown in the computational graph above.  \n",
        "\n",
        "Rather than doing this by hand, we can use the [AutoGraph](https://www.tensorflow.org/api_docs/python/tf/autograph) engine provided by TensorFlow.\n",
        "\n",
        "Let's import TensorFlow first:"
      ],
      "metadata": {
        "id": "m9VvF4CVtW0s"
      }
    },
    {
      "cell_type": "code",
      "execution_count": 9,
      "metadata": {
        "id": "YuD6zdWZp7DP"
      },
      "outputs": [],
      "source": [
        "import tensorflow as tf"
      ]
    },
    {
      "cell_type": "markdown",
      "source": [
        "Then, let's define the input tensors as placeholders for the input values; these will be filled with real data when we execute the graph:"
      ],
      "metadata": {
        "id": "b7EKlMrouClt"
      }
    },
    {
      "cell_type": "code",
      "source": [
        "  a = tf.Variable([2.])\n",
        "  b = tf.Variable([1.])"
      ],
      "metadata": {
        "id": "OZ2pB2A3uEQZ"
      },
      "execution_count": 10,
      "outputs": []
    },
    {
      "cell_type": "markdown",
      "source": [
        "## Static vs. Dynamic Computational Graphs\n",
        "\n",
        "TensorFlow and PyTorch handle computational graphs differently and by extension, the calculation of gradients. Initially, TensorFlow graphs were static by default (this changed in TensorFlow 2) whereas PyTorch ones were always dynamic.\n",
        "\n",
        "For static graphs, we create and connect all the variables at the beginning, and initialize them into a static (unchanging) session. This session and graph persists and is reused: it is not rebuilt after each iteration of training, making it efficient. However, with a static graph, variable sizes have to be defined at the beginning, which can be non-convenient for some applications, such as NLP with variable length inputs.\n",
        "\n",
        "For dynamic graphs, we build them dynamically, immediately after we declare variables. This graph is thus rebuilt after each iteration of training. This allows for the flexibility to modify and inspect the internals of the graph at any time. However, they can take time to rebuild.\n",
        "\n",
        "**References**: \n",
        "\n",
        "* https://cs230.stanford.edu/section/5/"
      ],
      "metadata": {
        "id": "Zm6Xl05quGZL"
      }
    },
    {
      "cell_type": "markdown",
      "source": [
        "---"
      ],
      "metadata": {
        "id": "F4Iea_nj2NI9"
      }
    },
    {
      "cell_type": "markdown",
      "source": [
        "With the input tensors defined, let's set up the computational graph. In TensorFlow 2.0, AutoGraph is automatically applied when using `tf.function`. AutoGraph transforms a subset of Python which operates on TensorFlow objects into equivalent TensorFlow graph code:"
      ],
      "metadata": {
        "id": "8LdtFJfcrK_k"
      }
    },
    {
      "cell_type": "code",
      "source": [
        "@tf.function\n",
        "def create_graph(a, b, get_grads):\n",
        "  with tf.GradientTape(persistent=True) as tape:\n",
        "    c = a + b\n",
        "    d = b + 1\n",
        "    e = c * d \n",
        "  if get_grads == False:\n",
        "    return {'out':e}\n",
        "  else:\n",
        "    de_dc = tape.gradient(e, c)\n",
        "    de_dd = tape.gradient(e, d)\n",
        "    de_de = tape.gradient(e, e)    \n",
        "    return {'out' :e,\n",
        "            'd_dc':de_dc,\n",
        "            'd_dd':de_dd, \n",
        "            'd_de':de_de}\n",
        "graph = tf.function(create_graph)"
      ],
      "metadata": {
        "id": "XwXomBUxu1Ib"
      },
      "execution_count": 11,
      "outputs": []
    },
    {
      "cell_type": "markdown",
      "source": [
        "Note that we used `.GradientTape(persistent=True)` to \"record\" the operations executed inside its context onto a \"tape\". Later, we will use the TensorFlow tape to compute the gradients using [automatic differentiation](https://en.wikipedia.org/wiki/Automatic_differentiation).\n",
        "\n",
        "Now that we have our computational graph, we can check the result when evaluating the expression:"
      ],
      "metadata": {
        "id": "UzCLJvMku46r"
      }
    },
    {
      "cell_type": "code",
      "source": [
        "print(graph(a, b, False)['out'])"
      ],
      "metadata": {
        "colab": {
          "base_uri": "https://localhost:8080/"
        },
        "id": "4t-uhE6vvH2j",
        "outputId": "2125fecf-72d7-4707-9232-7e89ec518d73"
      },
      "execution_count": 12,
      "outputs": [
        {
          "output_type": "stream",
          "name": "stdout",
          "text": [
            "tf.Tensor([6.], shape=(1,), dtype=float32)\n"
          ]
        }
      ]
    },
    {
      "cell_type": "markdown",
      "source": [
        "The output is a tensor with the value of `6.`, which verifies the results here: \n",
        "\n",
        "![](https://raw.githubusercontent.com/datasith/ML-Notebooks-TensorFlow/main/img/Intro_Computational_Graphs/tree-eval.png)\n",
        "*Source: Christopher Olah (2015)*"
      ],
      "metadata": {
        "id": "5eWub17iwi2L"
      }
    },
    {
      "cell_type": "markdown",
      "source": [
        "## Derivatives on Computational Graphs\n",
        "\n",
        "Using the concept of computational graphs we are now interested in evaluating the **partial derivatives** of the edges of the graph. This will help in gathering the gradients of the graph. Remember that gradients are what we use to train the neural network and those calculations can be taken care of by the automatic differentation engine. \n",
        "\n",
        "The intuition is: we want to know, for example, to what extent is the output $e$ affected by $c$ or $a$. In other words, if we change $a$ or $c$ a little, how does $e$ change. This is referred to as the partial derivative of $e$ with respect to $a$.\n",
        "\n",
        "Note that for the variables we pass into the function, we can calculate the partial derivatives *externally* to the graph definition function. So for computing $\\frac{\\partial e}{\\partial a}$, we can do:"
      ],
      "metadata": {
        "id": "tjX3LCRmw22a"
      }
    },
    {
      "cell_type": "code",
      "source": [
        "with tf.GradientTape(persistent=True) as tape:\n",
        "  out = graph(a,b, True)\n",
        "  e = out['out']\n",
        "\n",
        "de_da = tape.gradient(e, a)\n",
        "de_da"
      ],
      "metadata": {
        "id": "Nc6lnO5yy1Cq",
        "outputId": "0ff1df3a-6edd-453a-d33e-9009a9284fe9",
        "colab": {
          "base_uri": "https://localhost:8080/"
        }
      },
      "execution_count": 13,
      "outputs": [
        {
          "output_type": "execute_result",
          "data": {
            "text/plain": [
              "<tf.Tensor: shape=(1,), dtype=float32, numpy=array([2.], dtype=float32)>"
            ]
          },
          "metadata": {},
          "execution_count": 13
        }
      ]
    },
    {
      "cell_type": "markdown",
      "source": [
        "It is important to understand the intuition behind this. Olah puts it best:\n",
        "\n",
        ">Let’s consider how $e$ is affected by $a$. If we change $a$ at a speed of 1, $c$ also changes at a speed of $1$. In turn, $c$ changing at a speed of $1$ causes $e$ to change at a speed of $2$. So $e$ changes at a rate of $1*2$ with respect to $a$.\n"
      ],
      "metadata": {
        "id": "c05nEObzzbPn"
      }
    },
    {
      "cell_type": "markdown",
      "source": [
        "In other words, by hand this would be:\n",
        "\n",
        "$$\n",
        "\\frac{\\partial e}{\\partial \\boldsymbol{a}}=\\frac{\\partial e}{\\partial \\boldsymbol{c}} \\frac{\\partial \\boldsymbol{c}}{\\partial \\boldsymbol{a}} = 2 * 1\n",
        "$$"
      ],
      "metadata": {
        "id": "8xXLOU37BYOr"
      }
    },
    {
      "cell_type": "markdown",
      "source": [
        "You can verify that this is correct by checking the manual calculations by Olah. Since $a$ is not directly connectected to $e$, we can use some special rule which allows to sum over all paths from one node to the other in the computational graph and mulitplying the derivatives on each edge of the path together.\n",
        "\n",
        "![](https://raw.githubusercontent.com/datasith/ML-Notebooks-TensorFlow/main/img/Intro_Computational_Graphs/tree-eval-derivs.png)\n",
        "*Source: Christopher Olah (2015)*"
      ],
      "metadata": {
        "id": "A2iNJu6jzT5v"
      }
    },
    {
      "cell_type": "markdown",
      "source": [
        "To check that this holds, let look at another example. How about caluclating the derivative of $e$ with respect to $b$, i.e., $\\frac{\\partial e}{\\partial b}$?\n",
        "\n",
        "We can get that through `b.grad`:"
      ],
      "metadata": {
        "id": "9uZE-Gl12cnB"
      }
    },
    {
      "cell_type": "code",
      "source": [
        "de_db = tape.gradient(e, b)\n",
        "de_db"
      ],
      "metadata": {
        "colab": {
          "base_uri": "https://localhost:8080/"
        },
        "id": "2q11abV90d6i",
        "outputId": "822d9ed2-7fae-4191-9c34-6dc0c6f2fd2a"
      },
      "execution_count": 14,
      "outputs": [
        {
          "output_type": "execute_result",
          "data": {
            "text/plain": [
              "<tf.Tensor: shape=(1,), dtype=float32, numpy=array([5.], dtype=float32)>"
            ]
          },
          "metadata": {},
          "execution_count": 14
        }
      ]
    },
    {
      "cell_type": "markdown",
      "source": [
        "If you work it out by hand, you are basically doing the following:\n",
        "\n",
        "$$\n",
        "\\frac{\\partial e}{\\partial b}=1 * 2+1 * 3\n",
        "$$\n",
        "\n",
        "It indicates how $b$ affects $e$ through $c$ and $d$. We are essentially summing over paths in the computational graph."
      ],
      "metadata": {
        "id": "2mGP1_iw0_ot"
      }
    },
    {
      "cell_type": "markdown",
      "source": [
        "If we are interested in examining the derivative of $e$ with respect to $c$—or any other internal variable—how do we obtain this? In other words, for examining the value of $\\frac{\\partial e}{\\partial c}$ in this case with the given $a$ and $b$, we can include the calculation as part of our computational graph definition (also using `tf.GradientTape`), and return the calculations as part of our output:"
      ],
      "metadata": {
        "id": "hxbtx6OCy3I8"
      }
    },
    {
      "cell_type": "code",
      "source": [
        "int_grads = {\n",
        "             'd_dc' : out['d_dc'],\n",
        "             'd_dd' : out['d_dd'],\n",
        "             'd_de' : out['d_de'],\n",
        "            }             \n",
        "for grad in int_grads:\n",
        "  print(int_grads[grad])"
      ],
      "metadata": {
        "colab": {
          "base_uri": "https://localhost:8080/"
        },
        "id": "5NWnWDg4zHDn",
        "outputId": "512c2773-f515-4bd0-fd64-ae2a923429c1"
      },
      "execution_count": 17,
      "outputs": [
        {
          "output_type": "stream",
          "name": "stdout",
          "text": [
            "tf.Tensor([2.], shape=(1,), dtype=float32)\n",
            "tf.Tensor([3.], shape=(1,), dtype=float32)\n",
            "tf.Tensor([1.], shape=(1,), dtype=float32)\n"
          ]
        }
      ]
    },
    {
      "cell_type": "markdown",
      "source": [
        "Here are all the gradients collected, including non-leaf nodes:"
      ],
      "metadata": {
        "id": "6oSrHILq-4Ct"
      }
    },
    {
      "cell_type": "code",
      "source": [
        "print(de_da)\n",
        "print(de_db)\n",
        "for grad in int_grads:\n",
        "  print(int_grads[grad])"
      ],
      "metadata": {
        "colab": {
          "base_uri": "https://localhost:8080/"
        },
        "id": "vrUxwsrd3-f-",
        "outputId": "4d79b24c-47e4-4c1a-e815-91d1118ef1c9"
      },
      "execution_count": 16,
      "outputs": [
        {
          "output_type": "stream",
          "name": "stdout",
          "text": [
            "tf.Tensor([2.], shape=(1,), dtype=float32)\n",
            "tf.Tensor([5.], shape=(1,), dtype=float32)\n",
            "tf.Tensor([2.], shape=(1,), dtype=float32)\n",
            "tf.Tensor([3.], shape=(1,), dtype=float32)\n",
            "tf.Tensor([1.], shape=(1,), dtype=float32)\n"
          ]
        }
      ]
    },
    {
      "cell_type": "markdown",
      "source": [
        "You can use the computational graph above to verify that everything is correct. This is the power of computational graphs and how they are used by automatic differentation engines. It's also a very useful concept to understand when developing neural networks architectures and their correctness."
      ],
      "metadata": {
        "id": "HftIH5Mx4Pdj"
      }
    },
    {
      "cell_type": "markdown",
      "source": [
        "## Next Steps\n",
        "\n",
        "In this notebook, I've provided a simple and intuitive explanation to the concept of computational graphs using TensorFlow. I highly recommend to go through [Olah's article](https://colah.github.io/posts/2015-08-Backprop/) for more on the topic, and also comparing this notebook with its counterpart [implemented in PyTorch](https://colab.research.google.com/drive/1eG1AF36Wa0EaANandAhrsbC3j04487SH?usp=sharing#scrollTo=sbJvhj5m13Zq).\n",
        "\n",
        "In the next tutorial, I will be applying the concept of computational graphs to more advanced operations you typically see in a neural network. In fact, if you are interested in this, and you are feeling comfortable with the topic now, you can check out these TensorFlow tutorials:\n",
        "\n",
        "- [Better performance with `tf.function`](https://www.tensorflow.org/guide/function)\n",
        "- [Introduction to gradients and automatic differentiation (TensorFlow)](https://www.tensorflow.org/guide/autodiff)\n",
        "\n",
        "And here are some other useful references used to put this article together:\n",
        "\n",
        "- [Hacker's guide to Neural Networks\n",
        "](http://karpathy.github.io/neuralnets/)\n",
        "- [Backpropagation calculus](https://www.youtube.com/watch?v=tIeHLnjs5U8&ab_channel=3Blue1Brown)\n",
        "\n"
      ],
      "metadata": {
        "id": "DxyJDoMOs1gu"
      }
    }
  ]
}