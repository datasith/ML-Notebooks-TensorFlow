{
  "nbformat": 4,
  "nbformat_minor": 0,
  "metadata": {
    "colab": {
      "name": "Object_Detection_YOLO.ipynb",
      "provenance": [],
      "authorship_tag": "ABX9TyPfqoDuwhtBRH8sRSwwDpfa",
      "include_colab_link": true
    },
    "kernelspec": {
      "name": "python3",
      "display_name": "Python 3"
    },
    "language_info": {
      "name": "python"
    }
  },
  "cells": [
    {
      "cell_type": "markdown",
      "metadata": {
        "id": "view-in-github",
        "colab_type": "text"
      },
      "source": [
        "<a href=\"https://colab.research.google.com/github/datasith/ML-Notebooks-TensorFlow/blob/main/Object_Detection_YOLO.ipynb\" target=\"_parent\"><img src=\"https://colab.research.google.com/assets/colab-badge.svg\" alt=\"Open In Colab\"/></a>"
      ]
    },
    {
      "cell_type": "markdown",
      "metadata": {
        "id": "XhQFxVEA6XoQ"
      },
      "source": [
        "# Object Detection using Single-Stage Detectors (YOLO)\n",
        "\n",
        "In this notebook I provide a short introduction and overview of the process involved in building a **Convolutional Neural Network** (CNN) in **TensorFlow** using the **YOLO** network architecture.\n",
        "\n",
        "The model will help us with the task of **Object Detection** using images of Crown-of-Thorns Starfish (CoTS). ⭐\n",
        "\n",
        "---\n",
        "**Author:** Cisco Zabala ([@datasith](https://twitter.com/datasith) | [LinkedIn](https://www.linkedin.com/in/datasith/) | [Kaggle](https://kaggle.com/thedatasith) | [GitHub](https://github.com/datasith))"
      ]
    },
    {
      "cell_type": "markdown",
      "source": [
        "## Background\n",
        "\n",
        "**YOLO** is an Object Detection algorithm, which was a breakthrough in the field of Deep Learning applied to Computer Vision when first released [by Joseph Redmon in 2015](https://arxiv.org/abs/1506.02640).\n",
        "\n",
        "![]()\n",
        "\n",
        "[You Only Look Once: Unified, Real-Time Object Detection](https://arxiv.org/abs/1506.02640)\n",
        "\n",
        "\n",
        "References:\n",
        "\n",
        "* [ImageNet official website](https://www.image-net.org/)"
      ],
      "metadata": {
        "id": "IBeVdcFa8pgA"
      }
    },
    {
      "cell_type": "code",
      "source": [
        ""
      ],
      "metadata": {
        "id": "RTv3vUU9fN9C"
      },
      "execution_count": null,
      "outputs": []
    }
  ]
}