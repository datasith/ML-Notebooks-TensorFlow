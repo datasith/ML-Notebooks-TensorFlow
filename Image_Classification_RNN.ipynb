{
  "nbformat": 4,
  "nbformat_minor": 0,
  "metadata": {
    "colab": {
      "name": "Image_Classification_RNN.ipynb",
      "provenance": [],
      "authorship_tag": "ABX9TyM60qY5gsGYuUVAjAoJ+BUS",
      "include_colab_link": true
    },
    "kernelspec": {
      "name": "python3",
      "display_name": "Python 3"
    },
    "language_info": {
      "name": "python"
    }
  },
  "cells": [
    {
      "cell_type": "markdown",
      "metadata": {
        "id": "view-in-github",
        "colab_type": "text"
      },
      "source": [
        "<a href=\"https://colab.research.google.com/github/datasith/ML-Notebooks-TensorFlow/blob/main/Image_Classification_RNN.ipynb\" target=\"_parent\"><img src=\"https://colab.research.google.com/assets/colab-badge.svg\" alt=\"Open In Colab\"/></a>"
      ]
    },
    {
      "cell_type": "markdown",
      "source": [
        "# Image Classification using Recurrent Neural Networks (RNNs)\n",
        "\n",
        "This notebook contains an overview of the basics of Recurrent Neural Networks (RNNs) together with an application for classifying images.\n",
        "\n",
        "When working with sequences of data, such as time series, we are able to use certain types of network architectures, in particular RNNs. These networks iterate over the timesteps of sequence data and maintain an internal state that encodes information about the timesteps it has seen so far.\n",
        "\n",
        "Although RNNs are typically used for data that's [naturally sequential]() such as text, audio, `or time series, in this notebook we'll use the architecture for classifying images.\n",
        "\n",
        "---\n",
        "**Author:** Cisco Zabala ([@datasith](https://twitter.com/datasith) | [LinkedIn](https://www.linkedin.com/in/datasith/) | [Kaggle](https://kaggle.com/thedatasith) | [GitHub](https://github.com/datasith))\n",
        "\n"
      ],
      "metadata": {
        "id": "x9Yr6YVYdqf5"
      }
    },
    {
      "cell_type": "markdown",
      "source": [
        "## Background\n",
        "\n",
        "RNNs are a type of Artificial Neural Networks that take sequential, time series, or temporal data as input. They are typically used in Natural Language Processing applications such as language translation, speech recognition, and image captioning.\n",
        "\n",
        "![](https://github.com/datasith/ML-Notebooks-TensorFlow/blob/main/img/Image_Classification_RNN/rnn.jpg?raw=true)\n",
        "\n",
        "Similar to Feedforward and Convolutional Neural Networks (CNNs), RNNs use training data to learn. However, RNNs are unique in that they use “memory” to take information from prior inputs and influence the current input and output. This relies on the assumption that inputs and outputs depend on prior elements within the sequence — an assumption not usually made in other types of Neural Networks. One limitation of (unidirectional) RNNs is their inability to incorporate future events to determine the current output of a sequence.\n",
        "\n",
        "Another difference is that Feedforward Neural Networks use different weights for each layer, whereas RNNs share them. That said, both types of networks adjust weights through backpropagation and gradient descent. The backpropagation in RNNs includes a time component, so the process is known as Backpropagation Through Time.\n",
        "\n",
        " "
      ],
      "metadata": {
        "id": "Um7ji9jIhWJs"
      }
    },
    {
      "cell_type": "markdown",
      "source": [
        "## References:\n",
        "\n",
        "- https://www.ibm.com/cloud/learn/recurrent-neural-networks\n",
        "- https://www.tensorflow.org/guide/keras/rnn"
      ],
      "metadata": {
        "id": "Rz0I0QJlftnF"
      }
    }
  ]
}