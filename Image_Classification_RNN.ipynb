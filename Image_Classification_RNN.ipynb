{
  "nbformat": 4,
  "nbformat_minor": 0,
  "metadata": {
    "colab": {
      "name": "Image_Classification_RNN.ipynb",
      "provenance": [],
      "authorship_tag": "ABX9TyOWIcaD6jGrhgcrhrL6nRSV",
      "include_colab_link": true
    },
    "kernelspec": {
      "name": "python3",
      "display_name": "Python 3"
    },
    "language_info": {
      "name": "python"
    }
  },
  "cells": [
    {
      "cell_type": "markdown",
      "metadata": {
        "id": "view-in-github",
        "colab_type": "text"
      },
      "source": [
        "<a href=\"https://colab.research.google.com/github/datasith/ML-Notebooks-TensorFlow/blob/main/Image_Classification_RNN.ipynb\" target=\"_parent\"><img src=\"https://colab.research.google.com/assets/colab-badge.svg\" alt=\"Open In Colab\"/></a>"
      ]
    },
    {
      "cell_type": "markdown",
      "source": [
        "# Image Classification using Recurrent Neural Networks (RNNs)\n",
        "\n",
        "This notebook contains an overview of the basics of Recurrent Neural Networks (RNNs) together with an application for classifying images.\n",
        "\n",
        "---\n",
        "**Author:** Cisco Zabala ([@datasith](https://twitter.com/datasith) | [LinkedIn](https://www.linkedin.com/in/datasith/) | [Kaggle](https://kaggle.com/thedatasith) | [GitHub](https://github.com/datasith))\n",
        "\n"
      ],
      "metadata": {
        "id": "x9Yr6YVYdqf5"
      }
    },
    {
      "cell_type": "markdown",
      "source": [
        ""
      ],
      "metadata": {
        "id": "Um7ji9jIhWJs"
      }
    },
    {
      "cell_type": "markdown",
      "source": [
        "## References:\n",
        "\n",
        "- https://www.tensorflow.org/guide/keras/rnn"
      ],
      "metadata": {
        "id": "Rz0I0QJlftnF"
      }
    }
  ]
}